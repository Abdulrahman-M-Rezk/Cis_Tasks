{
  "nbformat": 4,
  "nbformat_minor": 0,
  "metadata": {
    "colab": {
      "provenance": [],
      "include_colab_link": true
    },
    "kernelspec": {
      "name": "python3",
      "display_name": "Python 3"
    },
    "language_info": {
      "name": "python"
    }
  },
  "cells": [
    {
      "cell_type": "markdown",
      "metadata": {
        "id": "view-in-github",
        "colab_type": "text"
      },
      "source": [
        "<a href=\"https://colab.research.google.com/github/Abdulrahman-M-Rezk/Cis_Tasks/blob/main/solution_of_Numpy_Task.ipynb\" target=\"_parent\"><img src=\"https://colab.research.google.com/assets/colab-badge.svg\" alt=\"Open In Colab\"/></a>"
      ]
    },
    {
      "cell_type": "markdown",
      "source": [
        "## Task_2 Numpy\n",
        "# **Abdulrahman Mohamed Rizk**"
      ],
      "metadata": {
        "id": "f9kP0oGoRv-h"
      }
    },
    {
      "cell_type": "markdown",
      "source": [
        "> Try to solve these questions by yourself, and if you need any help you can ask your mentor Eng. Hossam Taha (On Discord: hossamtaha) or Any Supervisor--> Eng. Zainab El Sayed (On Discord: zainab_elsayed1) or Eng. Areej Elshebly (On Discord: areja52) or Eng. Mohamed Ehab (On Discord: moe0000)\n",
        "\n",
        "> You can also search but Don't use AI tools like Chat GPT!"
      ],
      "metadata": {
        "id": "Qu1IkLRmlq8Q"
      }
    },
    {
      "cell_type": "markdown",
      "source": [
        "# **Q1) Let's Make Some Brain Storming With Indexing!**"
      ],
      "metadata": {
        "id": "g-8CaZjaagtI"
      }
    },
    {
      "cell_type": "code",
      "source": [
        "# Extract \"hello\" from the given nested list\n",
        "lst = [1,2,[3,4],[5,[100,200,['hello']],23,11],1,7]"
      ],
      "metadata": {
        "id": "703aCHbgbbcc"
      },
      "execution_count": null,
      "outputs": []
    },
    {
      "cell_type": "code",
      "source": [
        "print(lst[3][1][2][0])"
      ],
      "metadata": {
        "id": "-VYqBO__bjwZ",
        "outputId": "e66875f6-244c-4402-c666-95e78ae5b80a",
        "colab": {
          "base_uri": "https://localhost:8080/"
        }
      },
      "execution_count": null,
      "outputs": [
        {
          "output_type": "stream",
          "name": "stdout",
          "text": [
            "hello\n"
          ]
        }
      ]
    },
    {
      "cell_type": "markdown",
      "source": [
        "# **Q2) Import Numpy Package.**"
      ],
      "metadata": {
        "id": "sWZ9VMNjSnSg"
      }
    },
    {
      "cell_type": "code",
      "execution_count": null,
      "metadata": {
        "id": "bs6oQUx6RuSg"
      },
      "outputs": [],
      "source": [
        "import numpy as np"
      ]
    },
    {
      "cell_type": "markdown",
      "source": [
        "# **Q3) Write a Numpy Program to Create 3x3 matrix with values ranging from 2 to 10.**"
      ],
      "metadata": {
        "id": "wsLQXDLlTwKo"
      }
    },
    {
      "cell_type": "code",
      "source": [
        "np.random.uniform(2,10,(3,3))"
      ],
      "metadata": {
        "id": "oPbo5yFEVEIB",
        "outputId": "d0eb888f-7b93-4946-bf81-0c4be5f6b279",
        "colab": {
          "base_uri": "https://localhost:8080/"
        }
      },
      "execution_count": null,
      "outputs": [
        {
          "output_type": "execute_result",
          "data": {
            "text/plain": [
              "array([[5.04810741, 8.67733181, 6.93895446],\n",
              "       [7.77100645, 3.19165516, 3.07079201],\n",
              "       [5.07533768, 8.28054404, 9.51048009]])"
            ]
          },
          "metadata": {},
          "execution_count": 12
        }
      ]
    },
    {
      "cell_type": "markdown",
      "source": [
        "# **Q4) Write a Program to Create an Array of Random Integer Numbers (shape 3x4).**"
      ],
      "metadata": {
        "id": "EuA9WZRBVqxt"
      }
    },
    {
      "cell_type": "code",
      "source": [
        "np.random.randint(1,50, (3,4))"
      ],
      "metadata": {
        "id": "xWm1PE95Zp9L",
        "outputId": "733881b2-59be-45c0-e518-04ca1e1f47d5",
        "colab": {
          "base_uri": "https://localhost:8080/"
        }
      },
      "execution_count": null,
      "outputs": [
        {
          "output_type": "execute_result",
          "data": {
            "text/plain": [
              "array([[ 3,  5, 37,  1],\n",
              "       [ 3, 16, 16, 20],\n",
              "       [39, 31,  7, 33]])"
            ]
          },
          "metadata": {},
          "execution_count": 15
        }
      ]
    },
    {
      "cell_type": "markdown",
      "source": [
        "# **Q5) Use NumPy's np.array() function to convert both a list and a tuple into arrays.**"
      ],
      "metadata": {
        "id": "wHPldh57cXdt"
      }
    },
    {
      "cell_type": "code",
      "source": [
        "lst = [[1,2],[3,4],[5,100],[200,23],[1,7]]\n",
        "arr_1 = np.array(lst)\n",
        "arr_1"
      ],
      "metadata": {
        "id": "88itKOkcVp5g",
        "outputId": "5194ca6b-2eeb-4bc8-8722-807e21ab6019",
        "colab": {
          "base_uri": "https://localhost:8080/"
        }
      },
      "execution_count": null,
      "outputs": [
        {
          "output_type": "execute_result",
          "data": {
            "text/plain": [
              "array([[  1,   2],\n",
              "       [  3,   4],\n",
              "       [  5, 100],\n",
              "       [200,  23],\n",
              "       [  1,   7]])"
            ]
          },
          "metadata": {},
          "execution_count": 17
        }
      ]
    },
    {
      "cell_type": "code",
      "source": [
        "tupl = (2,3,5,7)\n",
        "np.array(tupl)"
      ],
      "metadata": {
        "id": "xVbT7wpfccAZ",
        "outputId": "5fbcd922-63f6-42b2-ee48-bc636679569f",
        "colab": {
          "base_uri": "https://localhost:8080/"
        }
      },
      "execution_count": null,
      "outputs": [
        {
          "output_type": "execute_result",
          "data": {
            "text/plain": [
              "array([2, 3, 5, 7])"
            ]
          },
          "metadata": {},
          "execution_count": 18
        }
      ]
    },
    {
      "cell_type": "markdown",
      "source": [
        "# **Q6) Get the Data Type of the Following Array.**"
      ],
      "metadata": {
        "id": "S9QbEzwmYvYY"
      }
    },
    {
      "cell_type": "code",
      "source": [
        "arr = np.array([1, 2, 3, 4])"
      ],
      "metadata": {
        "id": "RAwnOn9Nc-Jf"
      },
      "execution_count": null,
      "outputs": []
    },
    {
      "cell_type": "code",
      "source": [
        "print(type(arr))\n",
        "print(arr.dtype)"
      ],
      "metadata": {
        "id": "skoxwIc4ZrHT",
        "outputId": "3fc0a76e-b09c-434c-8d8c-fb89a287cc76",
        "colab": {
          "base_uri": "https://localhost:8080/"
        }
      },
      "execution_count": null,
      "outputs": [
        {
          "output_type": "stream",
          "name": "stdout",
          "text": [
            "<class 'numpy.ndarray'>\n",
            "int64\n"
          ]
        }
      ]
    },
    {
      "cell_type": "markdown",
      "source": [
        "# **Q7) Change the Data Type of 'arr' Array to 'int16'.**"
      ],
      "metadata": {
        "id": "WSZPYe29ZCk6"
      }
    },
    {
      "cell_type": "code",
      "source": [
        "arr.dtype = np.int16\n",
        "arr.dtype"
      ],
      "metadata": {
        "id": "Djb7mjaJZuou",
        "outputId": "87a8e8fc-21bd-4e02-b7a5-5705321e0c9d",
        "colab": {
          "base_uri": "https://localhost:8080/"
        }
      },
      "execution_count": null,
      "outputs": [
        {
          "output_type": "execute_result",
          "data": {
            "text/plain": [
              "dtype('int16')"
            ]
          },
          "metadata": {},
          "execution_count": 27
        }
      ]
    }
  ]
}